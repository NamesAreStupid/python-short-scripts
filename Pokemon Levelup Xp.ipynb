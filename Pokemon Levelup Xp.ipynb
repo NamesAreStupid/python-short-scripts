{
 "cells": [
  {
   "cell_type": "code",
   "execution_count": 41,
   "metadata": {},
   "outputs": [
    {
     "name": "stdout",
     "output_type": "stream",
     "text": [
      "[0, 1.25, 11.25, 45.0, 125.0, 281.25, 551.25, 980.0, 1620.0, 2531.25, 3781.25, 5445.0, 7605.0, 10351.25, 13781.25, 18000.0, 23120.0, 29261.25, 36551.25, 45125.0, 55125.0, 66701.25, 80011.25, 95220.0, 112500.0, 132031.25, 154001.25, 178605.0, 206045.0, 236531.25, 270281.25, 307520.0, 348480.0, 393401.25, 442531.25, 496125.0, 554445.0, 617761.25, 686351.25, 760500.0, 840500.0, 926651.25, 1019261.25, 1118645.0, 1225125.0, 1339031.25, 1460701.25, 1590480.0, 1728720.0, 1875781.25, 2032031.25, 2197845.0, 2373605.0, 2559701.25, 2756531.25, 2964500.0, 3184020.0, 3415511.25, 3659401.25, 3916125.0, 4186125.0, 4469851.25, 4767761.25, 5080320.0, 5408000.0, 5751281.25, 6110651.25, 6486605.0, 6879645.0, 7290281.25, 7719031.25, 8166420.0, 8632980.0, 9119251.25, 9625781.25, 10153125.0, 10701845.0, 11272511.25, 11865701.25, 12482000.0, 13122000.0, 13786301.25, 14475511.25, 15190245.0, 15931125.0, 16698781.25, 17493851.25, 18316980.0, 19168820.0, 20050031.25, 20961281.25, 21903245.0, 22876605.0, 23882051.25, 24920281.25, 25992000.0, 27097920.0, 28238761.25, 29415251.25, 30628125.0, 31878125.0]\n",
      "[0, -53.8, -44.2, 13.200000000000003, 110.00000000000001, 245.0, 424.2, 660.8, 975.1999999999999, 1395.0, 1955.0, 2697.2, 3670.7999999999997, 4932.2, 6545.0, 8580.0, 11115.2, 14235.8, 18034.199999999997, 22609.999999999996, 28069.999999999996, 34528.2, 42105.799999999996, 50931.2, 61140.0, 72875.0, 86286.2, 101530.79999999999, 118773.19999999998, 138184.99999999997, 159944.99999999997, 184239.19999999995, 211260.79999999996, 241210.19999999995, 274294.99999999994, 310729.99999999994, 350737.19999999995, 394545.79999999993, 442392.19999999995, 494519.99999999994, 551180.0, 612630.2, 679135.7999999999, 750969.2, 828410.0, 911745.0, 1001268.2, 1097280.8, 1200091.2, 1310015.0, 1427375.0, 1552501.2, 1685730.8, 1827408.2, 1977885.0, 2137520.0, 2306679.2, 2485735.8000000003, 2675070.2, 2875070.0, 3086130.0, 3308652.2, 3543045.8000000003, 3789727.2, 4049120.0, 4321655.0, 4607770.2, 4907910.8, 5222529.2, 5552085.0, 5897045.0, 6257883.2, 6635080.8, 7029126.2, 7440515.0, 7869750.0, 8317341.2, 8783805.8, 9269668.200000001, 9775460.000000002, 10301720.000000002, 10848994.200000001, 11417835.8, 12008805.200000001, 12622470.000000002, 13259405.000000002, 13920192.200000001, 14605420.8, 15315687.200000001, 16051595.000000002, 16813755.0, 17602785.2, 18419310.8, 19263964.2, 20137385.0, 21040220.0, 21973123.2, 22936755.8, 23931786.2, 24958890.0, 26018750.0]\n",
      "[0, 1, 9, 36, 100, 225, 441, 784, 1296, 2025, 3025, 4356, 6084, 8281, 11025, 14400, 18496, 23409, 29241, 36100, 44100, 53361, 64009, 76176, 90000, 105625, 123201, 142884, 164836, 189225, 216225, 246016, 278784, 314721, 354025, 396900, 443556, 494209, 549081, 608400, 672400, 741321, 815409, 894916, 980100, 1071225, 1168561, 1272384, 1382976, 1500625, 1625625, 1758276, 1898884, 2047761, 2205225, 2371600, 2547216, 2732409, 2927521, 3132900, 3348900, 3575881, 3814209, 4064256, 4326400, 4601025, 4888521, 5189284, 5503716, 5832225, 6175225, 6533136, 6906384, 7295401, 7700625, 8122500, 8561476, 9018009, 9492561, 9985600, 10497600, 11029041, 11580409, 12152196, 12744900, 13359025, 13995081, 14653584, 15335056, 16040025, 16769025, 17522596, 18301284, 19105641, 19936225, 20793600, 21678336, 22591009, 23532201, 24502500, 25502500]\n",
      "slow: 1,\t medf: 1\n",
      "slow: 2,\t medf: 2\n",
      "slow: 3,\t medf: 3\n",
      "slow: 4,\t medf: 4\n",
      "slow: 5,\t medf: 5\n",
      "slow: 6,\t medf: 6\n",
      "slow: 7,\t medf: 7\n",
      "slow: 8,\t medf: 8\n",
      "slow: 9,\t medf: 9\n",
      "slow: 10,\t medf: 10\n",
      "slow: 11,\t medf: 11\n",
      "slow: 12,\t medf: 12\n",
      "slow: 13,\t medf: 13\n",
      "slow: 14,\t medf: 14\n",
      "slow: 15,\t medf: 15\n",
      "slow: 16,\t medf: 16\n",
      "slow: 17,\t medf: 17\n",
      "slow: 18,\t medf: 19\n",
      "slow: 19,\t medf: 20\n",
      "slow: 20,\t medf: 21\n",
      "slow: 21,\t medf: 22\n",
      "slow: 22,\t medf: 23\n",
      "slow: 23,\t medf: 24\n",
      "slow: 24,\t medf: 25\n",
      "slow: 25,\t medf: 26\n",
      "slow: 26,\t medf: 27\n",
      "slow: 27,\t medf: 28\n",
      "slow: 28,\t medf: 29\n",
      "slow: 29,\t medf: 30\n",
      "slow: 30,\t medf: 31\n",
      "slow: 31,\t medf: 32\n",
      "slow: 32,\t medf: 33\n",
      "slow: 33,\t medf: 34\n",
      "slow: 34,\t medf: 35\n",
      "slow: 35,\t medf: 36\n",
      "slow: 36,\t medf: 38\n",
      "slow: 37,\t medf: 39\n",
      "slow: 38,\t medf: 40\n",
      "slow: 39,\t medf: 41\n",
      "slow: 40,\t medf: 42\n",
      "slow: 41,\t medf: 43\n",
      "slow: 42,\t medf: 44\n",
      "slow: 43,\t medf: 45\n",
      "slow: 44,\t medf: 46\n",
      "slow: 45,\t medf: 47\n",
      "slow: 46,\t medf: 48\n",
      "slow: 47,\t medf: 49\n",
      "slow: 48,\t medf: 50\n",
      "slow: 49,\t medf: 51\n",
      "slow: 50,\t medf: 52\n",
      "slow: 51,\t medf: 53\n",
      "slow: 52,\t medf: 54\n",
      "slow: 53,\t medf: 56\n",
      "slow: 54,\t medf: 57\n",
      "slow: 55,\t medf: 58\n",
      "slow: 56,\t medf: 59\n",
      "slow: 57,\t medf: 60\n",
      "slow: 58,\t medf: 61\n",
      "slow: 59,\t medf: 62\n",
      "slow: 60,\t medf: 63\n",
      "slow: 61,\t medf: 64\n",
      "slow: 62,\t medf: 65\n",
      "slow: 63,\t medf: 66\n",
      "slow: 64,\t medf: 67\n",
      "slow: 65,\t medf: 68\n",
      "slow: 66,\t medf: 69\n",
      "slow: 67,\t medf: 70\n",
      "slow: 68,\t medf: 71\n",
      "slow: 69,\t medf: 72\n",
      "slow: 70,\t medf: 73\n",
      "slow: 71,\t medf: 75\n",
      "slow: 72,\t medf: 76\n",
      "slow: 73,\t medf: 77\n",
      "slow: 74,\t medf: 78\n",
      "slow: 75,\t medf: 79\n",
      "slow: 76,\t medf: 80\n",
      "slow: 77,\t medf: 81\n",
      "slow: 78,\t medf: 82\n",
      "slow: 79,\t medf: 83\n",
      "slow: 80,\t medf: 84\n",
      "slow: 81,\t medf: 85\n",
      "slow: 82,\t medf: 86\n",
      "slow: 83,\t medf: 87\n",
      "slow: 84,\t medf: 88\n",
      "slow: 85,\t medf: 89\n",
      "slow: 86,\t medf: 90\n",
      "slow: 87,\t medf: 91\n",
      "slow: 88,\t medf: 93\n",
      "slow: 89,\t medf: 94\n",
      "slow: 90,\t medf: 95\n",
      "slow: 91,\t medf: 96\n",
      "slow: 92,\t medf: 97\n",
      "slow: 93,\t medf: 98\n",
      "slow: 94,\t medf: 99\n",
      "slow: 95,\t medf: 100\n"
     ]
    }
   ],
   "source": [
    "def slow_xp(lvl):\n",
    "    return 5*(lvl**3)/4\n",
    "\n",
    "def med_fast_xp(lvl):\n",
    "    return lvl**3\n",
    "\n",
    "def med_slow_xp(lvl):\n",
    "    return 6/5*lvl**3 - 15*lvl**2 + 100*lvl - 140\n",
    "\n",
    "def calculate_lvlup(xp_fun):\n",
    "    lvlup = list(map(xp_fun, range(1, 101)))\n",
    "    lvlacc = list()\n",
    "    lvlacc.append(0)\n",
    "    for i, xp in enumerate(lvlup):\n",
    "    #     print(i)\n",
    "    #     print(xp)\n",
    "        lvlacc.append(lvlacc[i] + xp)\n",
    "    return lvlup, lvlacc\n",
    "\n",
    "slow_lvlup, slow_lvlacc = calculate_lvlup(slow_xp)\n",
    "med_slow_lvlup, med_slow_lvlacc = calculate_lvlup(med_slow_xp)\n",
    "med_fast_lvlup, med_fast_lvlacc = calculate_lvlup(med_fast_xp)\n",
    "\n",
    "\n",
    "print(slow_lvlacc)\n",
    "print(med_slow_lvlacc)\n",
    "print(med_fast_lvlacc)\n",
    "# print(len(slow_lvl_acc))\n",
    "\n",
    "for i, xp in enumerate(slow_lvlacc):\n",
    "#     print (\"lvl: %i, \\txp: %d\" % (i, xp))\n",
    "    for j, medf_xp in enumerate(med_fast_lvlacc):\n",
    "        if(xp < medf_xp):\n",
    "            print(\"slow: %i,\\t medf: %i\" % (i+1, j))\n",
    "            break"
   ]
  },
  {
   "cell_type": "code",
   "execution_count": 48,
   "metadata": {},
   "outputs": [
    {
     "data": {
      "text/plain": [
       "<matplotlib.legend.Legend at 0x1a74d9b8d30>"
      ]
     },
     "execution_count": 48,
     "metadata": {},
     "output_type": "execute_result"
    },
    {
     "data": {
      "image/png": "[encoded data removed]",
      "text/plain": [
       "<Figure size 720x360 with 1 Axes>"
      ]
     },
     "metadata": {
      "needs_background": "light"
     },
     "output_type": "display_data"
    }
   ],
   "source": [
    "from matplotlib import pyplot as plt\n",
    "%matplotlib inline\n",
    "plt.rcParams['figure.figsize'] = [10, 5]\n",
    "\n",
    "# compare total xp accumulated\n",
    "plt.plot(range(1,102), med_fast_lvlacc, label='med_fast')\n",
    "plt.plot(range(1,102), med_slow_lvlacc, label='med_slow')\n",
    "plt.plot(range(1,102), slow_lvl_acc, label='slow')\n",
    "plt.ylabel('level')\n",
    "plt.ylabel('total xp')\n",
    "plt.legend()"
   ]
  }
 ],
 "metadata": {
  "kernelspec": {
   "display_name": "Python 3",
   "language": "python",
   "name": "python3"
  },
  "language_info": {
   "codemirror_mode": {
    "name": "ipython",
    "version": 3
   },
   "file_extension": ".py",
   "mimetype": "text/x-python",
   "name": "python",
   "nbconvert_exporter": "python",
   "pygments_lexer": "ipython3",
   "version": "3.9.7"
  }
 },
 "nbformat": 4,
 "nbformat_minor": 4
}
